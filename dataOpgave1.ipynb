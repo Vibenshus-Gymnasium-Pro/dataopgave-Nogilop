{
 "cells": [
  {
   "cell_type": "markdown",
   "id": "ff0fde1b-7ecd-474f-b158-79e0b8a1fbd0",
   "metadata": {},
   "source": [
    "# Krav til opgaven\n",
    "\n",
    "- Alle matematiske operationer (kvadratrødder, summering, gennemsnit, osv.) skal laves med NumPy’s funktioner (fx np.sqrt, np.sum, np.mean osv.).\n",
    "- Programmet må ikke indeholde for- eller while-loops til beregningerne – de skal løses ved hjælp af vektoriserede NumPy-operationer.\n",
    "\n",
    "# Del 1: Approksimation af $\\pi$ med Monte Carlo metoden\n",
    "\n",
    "## Recap: [Monte Carlo metode](https://en.wikipedia.org/wiki/Monte_Carlo_method)\n",
    "\n",
    "Vi fortsætter med emnet \"approksimation af $\\pi$\" med Monte Carlo metode fra sidste år. \n",
    "Sidste år i vores forløb \"simulation og modellering\" approksimere vi $\\pi$ ved at simulere tilfældige punkter i et kvadrat. Idéen er:\n",
    "    \n",
    "- Forestil dig et kvadrat med sidelængde 1, centreret i origo. \n",
    "- Tegn en cirkel med radius $\\frac{1}{2}$ inde i kvadratet.\n",
    "- Forholdet mellem cirklens areal og kvadratets areal er:\n",
    "    \n",
    "$$ \\frac{Areal \\; af \\; cirkel}{Areal \\; af \\;kvadrat} = \\frac{\\pi r^2}{(2r)^2} = \\frac{\\pi}{4}$$\n",
    "    \n",
    "- Hvis man generere mange tilfældige punkter i kvadratet og tæller, hvor mange der falder indenfor cirklen, kan man estimere $\\pi$\n",
    "\n",
    "## Opgaver\n",
    "\n",
    "- Brug `NumPy` til at generer fx 10.000 tilfældige punkter i kvadratet\n",
    "- Beregn, hvor mange punkter der ligger indenfor cirklen.\n",
    "- Udregn et estimat for $\\pi$.\n",
    "- Brug `matplotlib` til at lave et scatter-plot:\n",
    "      - Punktet **indenfor cirklen** vises med rød farve\n",
    "      - Punktet **udenfor cirklen** vises med blå farve\n",
    "- Tegn også cirklen.\n",
    "\n",
    "\n",
    "\n",
    "## Ekstra udfordring\n",
    "\n",
    "- Undersøg hvordan estimatet af π forbedres, når du øger antallet af punkter (fx 100, 1.000, 10.000, 100.000).\n",
    "- Lav et plot af \"estimat af $\\pi$\" som funktion af antallet af punkter."
   ]
  },
  {
   "cell_type": "markdown",
   "id": "269fe979-9691-481f-9881-870d462b1324",
   "metadata": {},
   "source": [
    "# Del 2: Radioaktivt henfald\n",
    "\n",
    "En bestemt radioaktiv isotop har en halveringstid på 5 år. Du skal simulere og visualisere, hvordan mængden af isotopen ændrer sig over tid.\n",
    "\n",
    "## Model\n",
    "\n",
    "Mængden af isotopen som funktion af tiden kan beskrives ved formlen:\n",
    "\n",
    "$$ N(t) = N_0 \\cdot e^{-\\lambda t} $$\n",
    "\n",
    "hvor:\n",
    "\n",
    "- $N_0 =$ startmængden (fx 100g)\n",
    "- $\\lambda = \\frac{ln(2)}{T_{1/2}}$ er henfaldskonstanten\n",
    "- $T_{1/2}$ er halveringstiden\n",
    "\n",
    "## Opgave\n",
    "\n",
    "- Brug `NumPy` til at beregne mængden af isotopen for hvert år i de første 50 år.\n",
    "- Tegn en graf med `Matplotlib`, hvor x-aksen er tiden (år) og y-aksen er mængden tilbage.\n",
    "- Marker halveringspunkterne (efter 5, 10, 15 år ...) i grafen, så man tydeligt kan se, at mængden halveres.\n",
    "\n",
    "## Ekstra udfordring \n",
    "\n",
    "- Lad programmet beregne, hvornår mængden er under 1g.\n",
    "- Sammenlign grafen med en simpel \"lineær model\" og diskuter, hvorfor eksponentiel henfaldsmodel er mere realistisk."
   ]
  }
 ],
 "metadata": {
  "kernelspec": {
   "display_name": "Python 3 (ipykernel)",
   "language": "python",
   "name": "python3"
  },
  "language_info": {
   "codemirror_mode": {
    "name": "ipython",
    "version": 3
   },
   "file_extension": ".py",
   "mimetype": "text/x-python",
   "name": "python",
   "nbconvert_exporter": "python",
   "pygments_lexer": "ipython3",
   "version": "3.12.3"
  }
 },
 "nbformat": 4,
 "nbformat_minor": 5
}
